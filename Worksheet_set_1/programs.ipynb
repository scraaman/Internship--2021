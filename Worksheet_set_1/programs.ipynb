{
 "cells": [
  {
   "cell_type": "markdown",
   "id": "4385dd3f",
   "metadata": {},
   "source": [
    "# Python program to find the factorial of a given number"
   ]
  },
  {
   "cell_type": "markdown",
   "id": "3f826d95",
   "metadata": {},
   "source": [
    "num = 5"
   ]
  },
  {
   "cell_type": "markdown",
   "id": "16f6c449",
   "metadata": {},
   "source": [
    "fact = 5 * 4 * 3 * 2 * 1 = 120"
   ]
  },
  {
   "cell_type": "code",
   "execution_count": 2,
   "id": "a5dfa309",
   "metadata": {},
   "outputs": [
    {
     "name": "stdout",
     "output_type": "stream",
     "text": [
      "enter the number: 5\n",
      "The factorial of  0  is  120\n"
     ]
    }
   ],
   "source": [
    "fact = 1\n",
    "num = int (input(\"enter the number: \")) \n",
    "while num > 0:\n",
    "    fact = fact * num\n",
    "    num = num - 1\n",
    "print(\"The factorial of \", num ,\" is \", fact)\n",
    "        "
   ]
  },
  {
   "cell_type": "markdown",
   "id": "1abea418",
   "metadata": {},
   "source": [
    "# Python program to find whether a number is prime or composite"
   ]
  },
  {
   "cell_type": "markdown",
   "id": "4f52047a",
   "metadata": {},
   "source": [
    "Prime Number - A number that can be divided exactly only by itself and 1, for example 7,17,and 41"
   ]
  },
  {
   "cell_type": "markdown",
   "id": "425bd86b",
   "metadata": {},
   "source": [
    "Composite Number - A composite number is a whole number with more than two integral divisors. for eg 4 it has three divisors 1,2,4"
   ]
  },
  {
   "cell_type": "code",
   "execution_count": 5,
   "id": "e3578c3b",
   "metadata": {},
   "outputs": [
    {
     "name": "stdout",
     "output_type": "stream",
     "text": [
      "Enter a natural number : 2\n",
      "2 is a Prime Number\n"
     ]
    }
   ],
   "source": [
    "number= int(input(\"Enter a natural number : \"))\n",
    "if number < 1:\n",
    "    print(\"Number needs to be greater than 1\")\n",
    "elif number == 1:\n",
    "    print(number, \" is neither prime or composite\")\n",
    "else:\n",
    "    for divisor in range(2, (number//2)+1):\n",
    "        if (number % divisor) == 0:\n",
    "            print(number, \" is a Composite Number\")\n",
    "            break\n",
    "    else:\n",
    "        print(number, \"is a Prime Number\")"
   ]
  },
  {
   "cell_type": "markdown",
   "id": "e6dd6747",
   "metadata": {},
   "source": [
    "# Python Program to check whether a given string is palindrome or not."
   ]
  },
  {
   "cell_type": "code",
   "execution_count": 8,
   "id": "df7fa2d9",
   "metadata": {},
   "outputs": [
    {
     "name": "stdout",
     "output_type": "stream",
     "text": [
      "Enter the number:321\n",
      "The reverse of  321 is  1\n",
      "The number  321 is not a Palindrome\n",
      "The reverse of  321 is  12\n",
      "The number  321 is not a Palindrome\n",
      "The reverse of  321 is  123\n",
      "The number  321 is not a Palindrome\n"
     ]
    }
   ],
   "source": [
    "num = int (input(\"Enter the number:\"))\n",
    "org = num\n",
    "rev = 0\n",
    "\n",
    "while num > 0:\n",
    "    rem = num % 10\n",
    "    rev = rev * 10 + rem\n",
    "    num = num // 10 \n",
    "    print (\"The reverse of \", org, \"is \",rev)\n",
    "    if rev == org :\n",
    "        print (\" The number \", org, \"is Palindrome\")\n",
    "    else:\n",
    "        print (\"The number \", org, \"is not a Palindrome\")\n",
    "        "
   ]
  },
  {
   "cell_type": "markdown",
   "id": "8114c483",
   "metadata": {},
   "source": [
    "# Python Program to print the frequency of each of the characters present in a given string"
   ]
  },
  {
   "cell_type": "markdown",
   "id": "599db56d",
   "metadata": {},
   "source": [
    "in operator"
   ]
  },
  {
   "cell_type": "code",
   "execution_count": 9,
   "id": "0870707f",
   "metadata": {},
   "outputs": [
    {
     "name": "stdout",
     "output_type": "stream",
     "text": [
      "True\n"
     ]
    }
   ],
   "source": [
    "d1 = {'jan':1, 'april': 4, 'August' : 8}\n",
    "print ( 'jan' in d1)"
   ]
  },
  {
   "cell_type": "code",
   "execution_count": 10,
   "id": "1b83d6b8",
   "metadata": {
    "scrolled": true
   },
   "outputs": [
    {
     "name": "stdout",
     "output_type": "stream",
     "text": [
      "False\n"
     ]
    }
   ],
   "source": [
    "print ('feb' in d1)"
   ]
  },
  {
   "cell_type": "code",
   "execution_count": 14,
   "id": "c9e60f0e",
   "metadata": {},
   "outputs": [
    {
     "name": "stdout",
     "output_type": "stream",
     "text": [
      "Enter the stringVTUVTUBGMDFMVUT\n",
      "{'V': 3, 'T': 3, 'U': 3, 'B': 1, 'G': 1, 'M': 2, 'D': 1, 'F': 1}\n"
     ]
    }
   ],
   "source": [
    "str1 = input (\"Enter the string\")\n",
    "d1 = dict()\n",
    "for c in str1:\n",
    "    if c in d1:\n",
    "        d1[c] = d1[c] + 1\n",
    "    else:\n",
    "        d1[c] = 1\n",
    "print (d1)\n"
   ]
  },
  {
   "cell_type": "markdown",
   "id": "c02a780d",
   "metadata": {},
   "source": [
    "get()"
   ]
  },
  {
   "cell_type": "code",
   "execution_count": 16,
   "id": "dae43e24",
   "metadata": {},
   "outputs": [
    {
     "name": "stdout",
     "output_type": "stream",
     "text": [
      "1\n"
     ]
    }
   ],
   "source": [
    "d1 = {'jan':1,'april': 4, 'August': 8}\n",
    "print (d1.get('jan', 0))"
   ]
  },
  {
   "cell_type": "code",
   "execution_count": 17,
   "id": "8ea3ca69",
   "metadata": {},
   "outputs": [
    {
     "name": "stdout",
     "output_type": "stream",
     "text": [
      "0\n"
     ]
    }
   ],
   "source": [
    "print (d1.get('feb', 0))"
   ]
  },
  {
   "cell_type": "code",
   "execution_count": 18,
   "id": "2cee0074",
   "metadata": {},
   "outputs": [
    {
     "name": "stdout",
     "output_type": "stream",
     "text": [
      "Enter the stringVTUVTUBGMFTVTU\n",
      "{'V': 3, 'T': 4, 'U': 3, 'B': 1, 'G': 1, 'M': 1, 'F': 1}\n"
     ]
    }
   ],
   "source": [
    "str1 = input (\"Enter the string\")\n",
    "d1 = dict()\n",
    "for c in str1:\n",
    "    d1[c] = d1.get(c, 0) + 1\n",
    "print (d1)"
   ]
  },
  {
   "cell_type": "markdown",
   "id": "7f546950",
   "metadata": {},
   "source": [
    "# Python Program to get the third side of right angled traingle from the given two sides"
   ]
  },
  {
   "cell_type": "code",
   "execution_count": 22,
   "id": "24876976",
   "metadata": {},
   "outputs": [
    {
     "name": "stdout",
     "output_type": "stream",
     "text": [
      "enter the length\n",
      "a : 6\n",
      "b: 8\n",
      "the length of the hypotenuse is  10.0\n"
     ]
    }
   ],
   "source": [
    "from math import sqrt\n",
    "print(\"enter the length\")\n",
    "\n",
    "a = float(input(\"a : \"))\n",
    "b = float( input(\"b: \"))\n",
    "\n",
    "c = sqrt(a**2 + b**2)\n",
    "print(\"the length of the hypotenuse is \" , c)"
   ]
  },
  {
   "cell_type": "code",
   "execution_count": null,
   "id": "f1a7e53a",
   "metadata": {},
   "outputs": [],
   "source": []
  }
 ],
 "metadata": {
  "kernelspec": {
   "display_name": "Python 3",
   "language": "python",
   "name": "python3"
  },
  "language_info": {
   "codemirror_mode": {
    "name": "ipython",
    "version": 3
   },
   "file_extension": ".py",
   "mimetype": "text/x-python",
   "name": "python",
   "nbconvert_exporter": "python",
   "pygments_lexer": "ipython3",
   "version": "3.8.8"
  }
 },
 "nbformat": 4,
 "nbformat_minor": 5
}
